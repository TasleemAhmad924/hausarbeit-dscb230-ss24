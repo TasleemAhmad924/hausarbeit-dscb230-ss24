{
 "cells": [
  {
   "cell_type": "markdown",
   "id": "48b3f54c-3ed1-407e-ab25-5fbf84acdc1b",
   "metadata": {},
   "source": [
    "__DSCB230 Sommersemester 2024__\n",
    "# Hausarbeit - Datenauswertung am Beispiel eines Business-Anwendungsfalls"
   ]
  },
  {
   "cell_type": "markdown",
   "id": "d486d432-bd92-485e-8f25-9d6f19208480",
   "metadata": {},
   "source": [
    "## Lernziele\n",
    "1. Einblick in die Arbeitsweise agiler Projekte\n",
    "2. Erfahrungen in der arbeitsteiligen Gruppenarbeit\n",
    "3. Erheben und Realisieren von Anforderungen\n",
    "4. Durchführen einer Datenauswertung\n",
    "5. Präsentieren der Ergebnisse mit anschließendem fachlichen Gedankenaustausch (Kolloquium)"
   ]
  },
  {
   "cell_type": "markdown",
   "id": "28da700c-e714-447a-933a-1c67c1e4d169",
   "metadata": {},
   "source": [
    "## Lehrinhalte\n",
    "1. Datenquelle finden\n",
    "2. Business Case eruieren\n",
    "3. Datenerfassung und Datenvorverarbeitung durchführen\n",
    "4. Analyse der Daten\n",
    "5. Datenvisualisierung\n",
    "6. Storytelling"
   ]
  },
  {
   "cell_type": "markdown",
   "id": "68929315-1123-471b-80ac-55dbe38d4575",
   "metadata": {},
   "source": [
    "## Ablauf\n",
    "- [Gruppeneinteilung](https://bwsyncandshare.kit.edu/s/iiqRzMRp4BynjYi)\n",
    "- Kick-off\n",
    "- Statusmeetings 1-4\n",
    "- Präsentation, Lessons Learned, Abgabe in ILIAS"
   ]
  },
  {
   "cell_type": "markdown",
   "id": "08a5d9d6-5ea3-4534-ac7f-418ca3dbbf6e",
   "metadata": {},
   "source": [
    "### Kick-off (Projekt-Start)\n",
    "\n",
    "Ziele: Lernziele besprechen. Erwartungen klarstellen. Durchführung besprechen."
   ]
  },
  {
   "cell_type": "markdown",
   "id": "99ac9d8d-cd6f-4e4e-aaf7-3c7bc5d5dd38",
   "metadata": {},
   "source": [
    "### Statusmeetings (Sprint-Reviews)\n",
    "\n",
    "Ziel: Es geht hauptsächlich um die Art und Weise der Zusammenarbeit, um Herausforderungen und Verbesserungsmöglichkeiten.\n",
    "\n",
    "__Leitfragen:__\n",
    "- Dinge, die gut gelungen sind.\n",
    "- Dinge, die weniger gut gelaufen sind.\n",
    "- Dinge, die man direkt stoppen sollte.\n",
    "- Aspekte, die man ausprobieren könnte."
   ]
  },
  {
   "cell_type": "markdown",
   "id": "0ddc70c6-3c59-425f-8263-79ca535a1962",
   "metadata": {},
   "source": [
    "### Lessons Learned (Projekt-Review)\n",
    "\n",
    "Ziele: Gewonnene Erkenntnisse für die Beurteilung der Arbeitsergebnisse festhalten.\n",
    "\n",
    "Vorbereitung: Die Gruppe setzt sich zusammen, um wertvolle Erfahrungen zu identifizieren, sie zu analysieren und aus ihnen zu lernen.\n",
    "\n",
    "__Leitfragen:__\n",
    "- Was waren die angenehmsten Dinge?\n",
    "- Welches Problem bzw. welche Probleme sind aufgetreten?\n",
    "- Wie wurde mit Problemen und Unklarheiten umgegangen?\n",
    "- Welche Lösung wurde verwendet?\n",
    "- Welche Probleme konnten, nach eigenem Ermessen, besonders gut gelöst werden?\n",
    "- Welche Ergebnisse der Datenauswertung waren überraschend?\n",
    "- Welche Erkenntnisse konnten durch die Datenauswertung gewonnen werden?\n",
    "- Welche ihrer Erwartungen an die Erkenntnisse der Datenauswertung weichen ab?\n",
    "- Wie bewerten Sie selbst ihre Ergebnisse?\n",
    "- Welche Erwartung an die Hausarbeit wurde nicht erfüllt?"
   ]
  },
  {
   "cell_type": "markdown",
   "id": "a0786cf7-b241-4f10-a7af-08eb0a07b7f7",
   "metadata": {},
   "source": [
    "## Aufgabenstellung\n",
    "\n",
    "- Führen Sie eine Datenauswertung durch.\n",
    "- Orientieren Sie sich an den Beispielen und den Übungen aus der Vorlesung.\n",
    "- Dokumentieren Sie Ihre Arbeit in diesem Jupter Notebook. Abweichungen in andere Tools oder Anwendungen sind in Absprache mit dem Dozent möglich.\n",
    "- Verwenden Sie die [Markdown](https://www.markdownguide.org/cheat-sheet/)-Syntax, um Ihre Arbeit leserlich zu gestalten."
   ]
  },
  {
   "cell_type": "markdown",
   "id": "54d1fd8f-461e-4d1a-bcee-c81d92ed488e",
   "metadata": {},
   "source": [
    "## Abschlusspräsentation\n",
    "\n",
    "- Termine, siehe [Gruppeneinteilung](https://bwsyncandshare.kit.edu/s/iiqRzMRp4BynjYi)\n",
    "- Dauer ca. 20 min\n",
    "- Ablauf:\n",
    "    - Gruppe präsentiert ihre Datenauswertung im Plenum\n",
    "    - Mündliche Wiedergabe der __vorbereiteten__ Lessons Learned\n",
    "    - Erstellung einer Komposition von 1-4 Abbildungen (400 x 400 px, .png) der aussagekräftigsten Visualisierungen für das Archiv der Hausarbeiten\n",
    "    - Upload aller Dokumete in ILIAS als Zip-Archiv mit der Bezeichnung `DSCB230_SoSe24_Hausarbeit_Gruppenname.zip`\n"
   ]
  },
  {
   "cell_type": "markdown",
   "id": "17e6b63f-2f04-4b47-bd44-dd5ea2832fd8",
   "metadata": {
    "tags": []
   },
   "source": [
    "## Bewertung\n",
    "\n",
    "Maximal 9 Punkte (10% der Klausurpunkte) als Startwert für die Klausur. Die Punkte erhalten alle Gruppenmitglieder. Sollte eine differenzierte Bewertung gewünscht sein, sprechen Sie bitte den Dozent an."
   ]
  },
  {
   "cell_type": "markdown",
   "id": "6568db5d-3f71-476b-8a65-2c4ae6c0d625",
   "metadata": {},
   "source": [
    "## Vorlage für Ihr Jupyter Notebook\n",
    "Sie können die nachfolgende Inhaltsstruktur verwenden bzw. sich an ihr orientieren."
   ]
  },
  {
   "cell_type": "markdown",
   "id": "aaec91a7-5b05-44c0-98f0-7f73a9461f89",
   "metadata": {},
   "source": [
    "__DSCB230 Sommersemester 2024__\n",
    "\n",
    "# Deutsche Bahn, Güterbeförderung Vergleich zwischen ´17 bis´23 (Corona) von Grundnahrungsmittel (Getreide, Milch,.....)\n",
    "Wie haben sich die Transportmuster von Grundnahrungsmitteln im deutschen Eisenbahngüterverkehr während und nach der Corona-Pandemie (2017-2023) verändert, und welche regionalen Unterschiede im Bedarf an diesen Nahrungsmitteln lassen sich feststellen? Wie beeinflussten pandemiebedingte Faktoren diese Muster?\n"
   ]
  },
  {
   "cell_type": "markdown",
   "id": "69b205aa-24e5-4d1a-a410-9cebab4c0844",
   "metadata": {},
   "source": [
    "Gruppe | Studierende 1 | Studierende 2 | Studierende 3 | Studierende 4 |Studierende 5 |\n",
    "------ | ------ | ------ | ------ | ------ | ------ |\n",
    "`Charlie` | `Tasleem Ahmad` | `Jacint` | `Andro Oraha` | `Mudit Singh` | `Devin` |"
   ]
  },
  {
   "cell_type": "markdown",
   "id": "1f379b61-3b1f-469a-a873-5021229aa033",
   "metadata": {},
   "source": [
    "## Business Case"
   ]
  },
  {
   "cell_type": "markdown",
   "id": "903810eb-3de1-4efc-8167-1dfe6584e5ac",
   "metadata": {},
   "source": [
    "Hintergrund:\n",
    "Die Corona-Pandemie hat weltweit erhebliche Auswirkungen auf die Lieferketten und die Logistik gehabt, insbesondere im Bereich der Lebensmittelversorgung. Veränderungen in den Konsumgewohnheiten, Störungen in der Produktion und Distribution sowie Schwankungen in der Verfügbarkeit von Transportressourcen haben die Notwendigkeit einer adaptiven Logistikstrategie verdeutlicht.\n",
    "\n",
    "Ziele des Projekts:\n",
    "\n",
    "    Analyse der Transportdaten: Untersuchung der Veränderungen in den Transportmustern von Grundnahrungsmitteln während der Pandemie und der anschließenden Erholungsphase.\n",
    "    Regionale Bedarfsanalyse: Identifikation von Mustern im regionalen Bedarf und dessen Abhängigkeit von den Transporten der Grundnahrungsmittel.\n",
    "    Optimierung von Logistikstrategien: Entwicklung von Empfehlungen zur Verbesserung der Effizienz und Resilienz der Lebensmittellogistik.\n",
    "\n",
    "Nutzen für das Unternehmen:\n",
    "\n",
    "    Effizienzsteigerung: Durch das Verständnis der dynamischen Veränderungen in den Transportmustern können Unternehmen ihre Logistikprozesse optimieren, um Kosten zu senken und die Effizienz zu steigern.\n",
    "    Risikominimierung: Erkenntnisse über die Auswirkungen von pandemiebedingten Störungen helfen, zukünftige Risiken besser zu managen und die Lieferkettenresilienz zu stärken.\n",
    "    Nachfragegerechte Verteilung: Eine verbesserte Kenntnis regionaler Bedarfe ermöglicht eine gezieltere Verteilung von Ressourcen und vermeidet Über- oder Unterversorgung.\n",
    "    Datengesteuerte Entscheidungsfindung: Die Entwicklung von Modellen zur Vorhersage zukünftiger Transportmuster basierend auf historischen Daten unterstützt proaktive Entscheidungsprozesse.\n",
    "    Nachhaltigkeitsziele: Optimierung der Transportrouten und -methoden zur Reduzierung des ökologischen Fußabdrucks.\n",
    "\n",
    "Wirtschaftliche Rechtfertigung:\n",
    "Die Investition in eine detaillierte Analyse und Optimierung der Transportmuster kann signifikante Kosteneinsparungen durch effizientere Routenplanung und Ressourcennutzung erbringen. Zusätzlich können durch verbesserte Logistikstrategien Strafzahlungen vermieden werden, die durch Nichterfüllung von Lieferverträgen entstehen könnten. Die langfristigen Vorteile einer resilienten Lieferkette übertreffen die anfänglichen Kosten für die Datenerhebung und -analyse."
   ]
  },
  {
   "cell_type": "markdown",
   "id": "ec75d1c5-3c7b-4488-8db6-c003a3cde4ed",
   "metadata": {},
   "source": [
    "## Datenerfassung und Datenvorverarbeitung"
   ]
  },
  {
   "cell_type": "code",
   "execution_count": 5,
   "id": "d0bd6ce5",
   "metadata": {},
   "outputs": [
    {
     "name": "stdout",
     "output_type": "stream",
     "text": [
      "Daten aus der ersten Datei:\n",
      "shape: (100, 43)\n",
      "┌───────────┬───────────┬───────────┬───────────┬───┬───────────┬───────────┬───────────┬──────────┐\n",
      "│ Beförderu ┆           ┆ _duplicat ┆ _duplicat ┆ … ┆ _duplicat ┆ _duplicat ┆ _duplicat ┆ _duplica │\n",
      "│ ngsleistu ┆ ---       ┆ ed_0      ┆ ed_1      ┆   ┆ ed_37     ┆ ed_38     ┆ ed_39     ┆ ted_40   │\n",
      "│ ng (Eisen ┆ str       ┆ ---       ┆ ---       ┆   ┆ ---       ┆ ---       ┆ ---       ┆ ---      │\n",
      "│ bahng…    ┆           ┆ str       ┆ str       ┆   ┆ str       ┆ str       ┆ str       ┆ str      │\n",
      "│ ---       ┆           ┆           ┆           ┆   ┆           ┆           ┆           ┆          │\n",
      "│ str       ┆           ┆           ┆           ┆   ┆           ┆           ┆           ┆          │\n",
      "╞═══════════╪═══════════╪═══════════╪═══════════╪═══╪═══════════╪═══════════╪═══════════╪══════════╡\n",
      "│ Güterverk ┆ null      ┆ null      ┆ null      ┆ … ┆ null      ┆ null      ┆ null      ┆ null     │\n",
      "│ ehrsstati ┆           ┆           ┆           ┆   ┆           ┆           ┆           ┆          │\n",
      "│ stik der  ┆           ┆           ┆           ┆   ┆           ┆           ┆           ┆          │\n",
      "│ Eisen…    ┆           ┆           ┆           ┆   ┆           ┆           ┆           ┆          │\n",
      "│ Deutschla ┆ null      ┆ null      ┆ null      ┆ … ┆ null      ┆ null      ┆ null      ┆ null     │\n",
      "│ nd        ┆           ┆           ┆           ┆   ┆           ┆           ┆           ┆          │\n",
      "│ Beförderu ┆ null      ┆ null      ┆ null      ┆ … ┆ null      ┆ null      ┆ null      ┆ null     │\n",
      "│ ngsleistu ┆           ┆           ┆           ┆   ┆           ┆           ┆           ┆          │\n",
      "│ ng (tkm)  ┆           ┆           ┆           ┆   ┆           ┆           ┆           ┆          │\n",
      "│ Versandre ┆ Empfangsr ┆ null      ┆ null      ┆ … ┆ null      ┆ null      ┆ null      ┆ null     │\n",
      "│ gion      ┆ egion     ┆           ┆           ┆   ┆           ┆           ┆           ┆          │\n",
      "│ null      ┆ Schleswig ┆ Hamburg   ┆ Braunschw ┆ … ┆ Sachsen-A ┆ Thüringen ┆ Ausland   ┆ Insgesam │\n",
      "│           ┆ -Holstein ┆           ┆ eig       ┆   ┆ nhalt     ┆           ┆           ┆ t        │\n",
      "│ …         ┆ …         ┆ …         ┆ …         ┆ … ┆ …         ┆ …         ┆ …         ┆ …        │\n",
      "│ Hamburg   ┆ -         ┆ -         ┆ -         ┆ … ┆ -         ┆ -         ┆ -         ┆ -        │\n",
      "│ Braunschw ┆ -         ┆ -         ┆ -         ┆ … ┆ -         ┆ -         ┆ -         ┆ -        │\n",
      "│ eig       ┆           ┆           ┆           ┆   ┆           ┆           ┆           ┆          │\n",
      "│ Hannover  ┆ -         ┆ -         ┆ -         ┆ … ┆ -         ┆ -         ┆ -         ┆ -        │\n",
      "│ Lüneburg  ┆ -         ┆ -         ┆ -         ┆ … ┆ -         ┆ -         ┆ -         ┆ -        │\n",
      "│ Weser-Ems ┆ -         ┆ -         ┆ -         ┆ … ┆ -         ┆ -         ┆ -         ┆ -        │\n",
      "└───────────┴───────────┴───────────┴───────────┴───┴───────────┴───────────┴───────────┴──────────┘\n"
     ]
    }
   ],
   "source": [
    "\n",
    "\n",
    "\n",
    "import polars as pl\n",
    "from openpyxl import load_workbook\n",
    "\n",
    "# Lade eine vorhandene Excel-Datei\n",
    "workbook = load_workbook(filename='deine_datei.xlsx')\n",
    "\n",
    "# Wähle ein Arbeitsblatt aus\n",
    "sheet = workbook.active\n",
    "\n",
    "# Ändere den Wert einer Zelle\n",
    "sheet['A1'] = 'Hallo Welt'\n",
    "\n",
    "# Speichere die geänderte Datei\n",
    "workbook.save(filename='modifizierte_datei.xlsx')\n",
    "\n",
    "\n",
    "# Pfad zur Excel-Datei\n",
    "#file_path1\n",
    "\n",
    "# Einlesen der Excel-Datei mit UTF-8 Encoding (falls notwendig)\n",
    "#data1 = pl.read_excel(file_path1)\n",
    "\n",
    "# Anzeigen der ersten paar Zeilen der Daten\n",
    "#print(\"Daten aus der ersten Datei:\")\n",
    "#print(data1.head(100))\n",
    "\n",
    "#Datenfilterung: \n",
    "#Es soll ein Python-Skript entwickelt werden, das Datenzeilen aus einem umfangreichen Datensatz filtert, welche sich ausschließlich auf spezifische Grundnahrungsmittel wie Getreide und Milch beziehen. \n",
    "#Dieses Skript muss alle anderen Datensätze ausschließen, die nicht zu den festgelegten Kategorien der Grundnahrungsmittel gehören.\n",
    "\n",
    "\n",
    "#Aggregation der Daten auf Jahresbasis: \n",
    "#Eine Funktion sollte entwickelt werden, um die monatlichen Daten zu jährlichen Zusammenfassungen zu aggregieren. \n",
    "#Diese Aggregation soll die Summation der Daten für jeden Monat jedes Jahres umfassen, um eine klare Übersicht über die Transportvolumina \n",
    "#und -muster auf Jahresbasis zu bieten.\n",
    "\n",
    "\n",
    "#Sortierung und Speicherung der Daten: \n",
    "#Die aggregierten Daten sollen nach Monaten sortiert und strukturiert gespeichert werden, idealerweise in einer Datei oder in einer separaten Tabelle für jedes Jahr. \n",
    "#Dies erleichtert die spätere Analyse und Visualisierung der zeitlichen Trends.\n"
   ]
  },
  {
   "cell_type": "markdown",
   "id": "ff9815a5-47fb-4234-8b82-f11f28ac15d7",
   "metadata": {},
   "source": [
    "## Analyse der Daten"
   ]
  },
  {
   "cell_type": "markdown",
   "id": "508ffc83-a105-4a99-863b-36962f17f30c",
   "metadata": {},
   "source": []
  },
  {
   "cell_type": "markdown",
   "id": "2899c25b-ea8e-4a36-be86-b9dc9368f6b3",
   "metadata": {},
   "source": [
    "## Lessons Learned"
   ]
  },
  {
   "cell_type": "markdown",
   "id": "d837f8ba-d9a8-49ad-ac08-9193d186798f",
   "metadata": {},
   "source": []
  }
 ],
 "metadata": {
  "kernelspec": {
   "display_name": "Python 3 (ipykernel)",
   "language": "python",
   "name": "python3"
  },
  "language_info": {
   "codemirror_mode": {
    "name": "ipython",
    "version": 3
   },
   "file_extension": ".py",
   "mimetype": "text/x-python",
   "name": "python",
   "nbconvert_exporter": "python",
   "pygments_lexer": "ipython3",
   "version": "3.9.13"
  },
  "toc-autonumbering": false,
  "toc-showmarkdowntxt": false,
  "widgets": {
   "application/vnd.jupyter.widget-state+json": {
    "state": {},
    "version_major": 2,
    "version_minor": 0
   }
  }
 },
 "nbformat": 4,
 "nbformat_minor": 5
}
